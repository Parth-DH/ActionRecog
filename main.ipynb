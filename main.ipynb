{
 "cells": [
  {
   "cell_type": "markdown",
   "metadata": {
    "colab_type": "text",
    "id": "AcamCuuyjYb2"
   },
   "source": [
    "# Action Recognition @ UCF101  \n",
    "**Due date: 11:59 pm on Nov. 19, 2019 (Tuesday)**\n",
    "\n",
    "## Description\n",
    "---\n",
    "In this homework, you will be doing action recognition using Recurrent Neural Network (RNN), (Long-Short Term Memory) LSTM in particular. You will be given a dataset called UCF101, which consists of 101 different actions/classes and for each action, there will be 145 samples. We tagged each sample into either training or testing. Each sample is supposed to be a short video, but we sampled 25 frames from each videos to reduce the amount of data. Consequently, a training sample is an image tuple that forms a 3D volume with one dimension encoding *temporal correlation* between frames and a label indicating what action it is.\n",
    "\n",
    "To tackle this problem, we aim to build a neural network that can not only capture spatial information of each frame but also temporal information between frames. Fortunately, you don't have to do this on your own. RNN — a type of neural network designed to deal with time-series data — is right here for you to use. In particular, you will be using LSTM for this task.\n",
    "\n",
    "Instead of training an end-to-end neural network from scratch whose computation is prohibitively expensive, we divide this into two steps: feature extraction and modelling. Below are the things you need to implement for this homework:\n",
    "- **{35 pts} Feature extraction**. Use any of the [pre-trained models](https://pytorch.org/docs/stable/torchvision/models.html) to extract features from each frame. Specifically, we recommend not to use the activations of the last layer as the features tend to be task specific towards the end of the network. \n",
    "    **hints**: \n",
    "    - A good starting point would be to use a pre-trained VGG16 network, we suggest first fully connected layer `torchvision.models.vgg16` (4096 dim) as features of each video frame. This will result into a 4096x25 matrix for each video. \n",
    "    - Normalize your images using `torchvision.transforms` \n",
    "    ```\n",
    "    normalize = transforms.Normalize(mean=[0.485, 0.456, 0.406], std=[0.229, 0.224, 0.225])\n",
    "    prep = transforms.Compose([ transforms.ToTensor(), normalize ])\n",
    "    prep(img)\n",
    "    The mean and std. mentioned above is specific to Imagenet data\n",
    "    \n",
    "    ```\n",
    "    More details of image preprocessing in PyTorch can be found at http://pytorch.org/tutorials/beginner/data_loading_tutorial.html\n",
    "    \n",
    "- **{35 pts} Modelling**. With the extracted features, build an LSTM network which takes a **dx25** sample as input (where **d** is the dimension of the extracted feature for each frame), and outputs the action label of that sample.\n",
    "- **{20 pts} Evaluation**. After training your network, you need to evaluate your model with the testing data by computing the prediction accuracy **(5 points)**. The baseline test accuracy for this data is 75%, and **10 points** out of 20 is for achieving test accuracy greater than the baseline. Moreover, you need to compare **(5 points)** the result of your network with that of support vector machine (SVM) (stacking the **dx25** feature matrix to a long vector and train a SVM).\n",
    "- **{10 pts} Report**. Details regarding the report can be found in the submission section below.\n",
    "\n",
    "Notice that the size of the raw images is 256x340, whereas your pre-trained model might take **nxn** images as inputs. To solve this problem, instead of resizing the images which unfavorably changes the spatial ratio, we take a better solution: Cropping five **nxn** images, one at the image center and four at the corners and compute the **d**-dim features for each of them, and average these five **d**-dim feature to get a final feature representation for the raw image.\n",
    "For example, VGG takes 224x224 images as inputs, so we take the five 224x224 croppings of the image, compute 4096-dim VGG features for each of them, and then take the mean of these five 4096-dim vectors to be the representation of the image.\n",
    "\n",
    "In order to save you computational time, you need to do the classification task only for **the first 25** classes of the whole dataset. The same applies to those who have access to GPUs. **Bonus 10 points for running and reporting on the entire 101 classes.**\n",
    "\n",
    "\n",
    "## Dataset\n",
    "Download **dataset** at [UCF101](http://vision.cs.stonybrook.edu/~yangwang/public/UCF101_images.tar)(Image data for each video) and the **annos folder** which has the video labels and the label to class name mapping is included in the assignment folder uploaded. \n",
    "\n",
    "\n",
    "UCF101 dataset contains 101 actions and 13,320 videos in total.  \n",
    "\n",
    "+ `annos/actions.txt`  \n",
    "  + lists all the actions (`ApplyEyeMakeup`, .., `YoYo`)   \n",
    "  \n",
    "+ `annots/videos_labels_subsets.txt`  \n",
    "  + lists all the videos (`v_000001`, .., `v_013320`)  \n",
    "  + labels (`1`, .., `101`)  \n",
    "  + subsets (`1` for train, `2` for test)  \n",
    "\n",
    "+ `images/`  \n",
    "  + each folder represents a video\n",
    "  + the video/folder name to class mapping can be found using `annots/videos_labels_subsets.txt`, for e.g. `v_000001` belongs to class 1 i.e. `ApplyEyeMakeup`\n",
    "  + each video folder contains 25 frames  \n",
    "\n",
    "\n",
    "\n",
    "## Some Tutorials\n",
    "- Good materials for understanding RNN and LSTM\n",
    "    - http://blog.echen.me\n",
    "    - http://karpathy.github.io/2015/05/21/rnn-effectiveness/\n",
    "    - http://colah.github.io/posts/2015-08-Understanding-LSTMs/\n",
    "- Implementing RNN and LSTM with PyTorch\n",
    "    - [LSTM with PyTorch](http://pytorch.org/tutorials/beginner/nlp/sequence_models_tutorial.html#sphx-glr-beginner-nlp-sequence-models-tutorial-py)\n",
    "    - [RNN with PyTorch](http://pytorch.org/tutorials/intermediate/char_rnn_classification_tutorial.html)"
   ]
  },
  {
   "cell_type": "code",
   "execution_count": 0,
   "metadata": {
    "colab": {},
    "colab_type": "code",
    "collapsed": true,
    "id": "_XBE0lGwUk-p"
   },
   "outputs": [],
   "source": []
  },
  {
   "cell_type": "code",
   "execution_count": 0,
   "metadata": {
    "colab": {
     "base_uri": "https://localhost:8080/",
     "height": 34
    },
    "colab_type": "code",
    "id": "nGA04Lf5W4Y5",
    "outputId": "bb8328ee-d438-47fc-ccd5-079f5b6edaef"
   },
   "outputs": [
    {
     "name": "stdout",
     "output_type": "stream",
     "text": [
      "Drive already mounted at /content/drive; to attempt to forcibly remount, call drive.mount(\"/content/drive\", force_remount=True).\n"
     ]
    }
   ],
   "source": [
    "from google.colab import drive\n",
    "drive.mount('/content/drive')"
   ]
  },
  {
   "cell_type": "code",
   "execution_count": 0,
   "metadata": {
    "colab": {
     "base_uri": "https://localhost:8080/",
     "height": 34
    },
    "colab_type": "code",
    "id": "htdMUoJPcHrZ",
    "outputId": "be743ee7-a5d8-4f95-cebf-3d3ab84c3ede"
   },
   "outputs": [
    {
     "name": "stdout",
     "output_type": "stream",
     "text": [
      "/content/drive/My Drive/Joshi_Parth_112675594_hw5\n"
     ]
    }
   ],
   "source": [
    "cd '/content/drive/My Drive/Joshi_Parth_112675594_hw5'"
   ]
  },
  {
   "cell_type": "code",
   "execution_count": 0,
   "metadata": {
    "colab": {
     "base_uri": "https://localhost:8080/",
     "height": 204
    },
    "colab_type": "code",
    "id": "X12c-hYuUl12",
    "outputId": "8dd401af-a34e-44b2-bf92-b9a1c5d6e0ff"
   },
   "outputs": [
    {
     "name": "stdout",
     "output_type": "stream",
     "text": [
      "--2019-11-17 22:18:02--  http://vision.cs.stonybrook.edu/~yangwang/public/UCF101_images.tar\n",
      "Resolving vision.cs.stonybrook.edu (vision.cs.stonybrook.edu)... 130.245.4.232\n",
      "Connecting to vision.cs.stonybrook.edu (vision.cs.stonybrook.edu)|130.245.4.232|:80... connected.\n",
      "HTTP request sent, awaiting response... 200 OK\n",
      "Length: 8658247680 (8.1G) [application/x-tar]\n",
      "Saving to: ‘UCF101_images.tar’\n",
      "\n",
      "UCF101_images.tar   100%[===================>]   8.06G  14.2MB/s    in 9m 10s  \n",
      "\n",
      "2019-11-17 22:27:12 (15.0 MB/s) - ‘UCF101_images.tar’ saved [8658247680/8658247680]\n",
      "\n"
     ]
    }
   ],
   "source": [
    "DONT RUN AGAIN\n",
    "!wget 'http://vision.cs.stonybrook.edu/~yangwang/public/UCF101_images.tar'"
   ]
  },
  {
   "cell_type": "code",
   "execution_count": 0,
   "metadata": {
    "colab": {},
    "colab_type": "code",
    "collapsed": true,
    "id": "4wvfgVd3UknW"
   },
   "outputs": [],
   "source": [
    "DONT RUN AGAIN\n",
    "!tar -xkf './UCF101_images.tar' 2>/dev/null"
   ]
  },
  {
   "cell_type": "code",
   "execution_count": 0,
   "metadata": {
    "colab": {},
    "colab_type": "code",
    "collapsed": true,
    "id": "wLDscwGrfUyy"
   },
   "outputs": [],
   "source": [
    "import cv2\n",
    "import numpy as np\n",
    "import matplotlib.pyplot as plt\n",
    "import glob\n",
    "import random \n",
    "import scipy.io\n",
    "import pandas as pd\n",
    "from skimage import io, transform\n",
    "import time\n",
    "import os\n",
    "from sklearn.svm import LinearSVC\n",
    "\n",
    "import torch\n",
    "import torchvision\n",
    "import torchvision.transforms as transforms\n",
    "from torch.utils.data import Dataset, DataLoader\n",
    "from torchvision import transforms, utils, datasets\n",
    "from torchsummary import summary\n",
    "\n",
    "from torch.autograd import Variable\n",
    "import torch.nn as nn\n",
    "import torch.nn.functional as F"
   ]
  },
  {
   "cell_type": "code",
   "execution_count": 0,
   "metadata": {
    "colab": {},
    "colab_type": "code",
    "collapsed": true,
    "id": "4sfOtRFykxtB"
   },
   "outputs": [],
   "source": [
    "# Reading Text File for actions.txt\n",
    "actions_file = open('annos/actions.txt', 'r')\n",
    "actions_list =  [a.split() for a in actions_file.readlines()]"
   ]
  },
  {
   "cell_type": "code",
   "execution_count": null,
   "metadata": {
    "colab": {
     "base_uri": "https://localhost:8080/",
     "height": 105
    },
    "colab_type": "code",
    "id": "N1ThaRudVds2",
    "outputId": "b3d43591-1b1c-4774-edf1-804fee8b84f2"
   },
   "outputs": [],
   "source": [
    "videos_file = open('annos/videos_labels_subsets.txt', 'r')\n",
    "videos_list =  [a.split() for a in videos_file.readlines()]\n",
    "training_labels= []\n",
    "testing_labels= []\n",
    "for i in range (len(videos_list)):\n",
    "  if int(videos_list[i][1]) <= 25:\n",
    "    if videos_list[i][-1]=='1':\n",
    "      training_labels.append(videos_list[i][:-1])\n",
    "    elif videos_list[i][-1]=='2':\n",
    "      testing_labels.append(videos_list[i][:-1])\n",
    "print(\"Train\")\n",
    "print(training_labels)\n",
    "print(\"Test\")\n",
    "print(testing_labels)"
   ]
  },
  {
   "cell_type": "code",
   "execution_count": null,
   "metadata": {
    "colab": {
     "base_uri": "https://localhost:8080/",
     "height": 1000
    },
    "colab_type": "code",
    "id": "9TAm0k2nvfV2",
    "outputId": "14dfacd3-0ecf-4495-c217-961997ffa1f9"
   },
   "outputs": [],
   "source": [
    "DONT RUN AGAIN\n",
    "# Creating train data folder\n",
    "os.mkdir('TrainData')\n",
    "\n",
    "for tr in training_labels:\n",
    "  img, l = tr[0], tr[1]\n",
    "\n",
    "  if img in os.listdir('./images'):\n",
    "    print(img)\n",
    "    shutil.movetree(('./images/'+img), ('./TrainData/'+img))"
   ]
  },
  {
   "cell_type": "code",
   "execution_count": 0,
   "metadata": {
    "colab": {},
    "colab_type": "code",
    "collapsed": true,
    "id": "dV9_TinXQfqg"
   },
   "outputs": [],
   "source": [
    "DONT RUN AGAIN\n",
    "# Creating test data folder\n",
    "os.mkdir('TestData')\n",
    "\n",
    "for tr in testing_labels:\n",
    "  img, l = tr[0], tr[1]\n",
    "\n",
    "  if img in os.listdir('./images'):\n",
    "    print(img)\n",
    "    shutil.movetree(('./images/'+img), ('./TestData/'+img))"
   ]
  },
  {
   "cell_type": "code",
   "execution_count": 0,
   "metadata": {
    "colab": {},
    "colab_type": "code",
    "collapsed": true,
    "id": "nZPPjihKuwns"
   },
   "outputs": [],
   "source": [
    "# Train\n",
    "\n",
    "data_transform = transforms.Compose([\n",
    "        # transforms.CenterCrop(224),                             \n",
    "        transforms.FiveCrop(224),\n",
    "        transforms.Lambda(lambda crops: torch.stack([transforms.ToTensor()(crop) for crop in crops])),\n",
    "        transforms.Lambda(lambda norms: torch.stack([transforms.Normalize(mean=[0.485, 0.456, 0.406],std=[0.229, 0.224, 0.225])(norm) for norm in norms])),\n",
    "        # transforms.ToTensor(),\n",
    "        # transforms.Normalize(mean=[0.485, 0.456, 0.406],\n",
    "        #                      std=[0.229, 0.224, 0.225])\n",
    "    ])\n",
    "\n",
    "img_dataset = datasets.ImageFolder(root='./TrainData',\n",
    "                                           transform=data_transform)\n",
    "\n",
    "dataset_loader = torch.utils.data.DataLoader(img_dataset,\n",
    "                                            #  batch_size=5, shuffle=False)\n",
    "                                             num_workers=10)\n"
   ]
  },
  {
   "cell_type": "code",
   "execution_count": 0,
   "metadata": {
    "colab": {},
    "colab_type": "code",
    "collapsed": true,
    "id": "40RXfrLhuTDQ"
   },
   "outputs": [],
   "source": [
    "data_transform_test = transforms.Compose([\n",
    "        # transforms.CenterCrop(224),                             \n",
    "        transforms.FiveCrop(224),\n",
    "        transforms.Lambda(lambda crops: torch.stack([transforms.ToTensor()(crop) for crop in crops])),\n",
    "        transforms.Lambda(lambda norms: torch.stack([transforms.Normalize(mean=[0.485, 0.456, 0.406],std=[0.229, 0.224, 0.225])(norm) for norm in norms])),\n",
    "        # transforms.ToTensor(),\n",
    "        # transforms.Normalize(mean=[0.485, 0.456, 0.406],\n",
    "        #                      std=[0.229, 0.224, 0.225])\n",
    "    ])\n",
    "img_dataset_test = datasets.ImageFolder(root='./TestData',\n",
    "                                           transform=data_transform_test)\n",
    "\n",
    "dataset_loader_test = torch.utils.data.DataLoader(img_dataset_test,\n",
    "                                            #  batch_size=5, shuffle=False,\n",
    "                                             num_workers=5)"
   ]
  },
  {
   "cell_type": "markdown",
   "metadata": {
    "colab_type": "text",
    "id": "UdCRwkL7jxtc"
   },
   "source": [
    "---\n",
    "---\n",
    "## **Problem 1.** Feature extraction"
   ]
  },
  {
   "cell_type": "code",
   "execution_count": 0,
   "metadata": {
    "colab": {
     "base_uri": "https://localhost:8080/",
     "height": 51
    },
    "colab_type": "code",
    "id": "urKQi8oAjYb-",
    "outputId": "e044995c-7eb5-4ab6-adfd-8d6b2b8689e6"
   },
   "outputs": [
    {
     "name": "stderr",
     "output_type": "stream",
     "text": [
      "Downloading: \"https://download.pytorch.org/models/vgg16-397923af.pth\" to /root/.cache/torch/checkpoints/vgg16-397923af.pth\n",
      "100%|██████████| 528M/528M [00:06<00:00, 86.2MB/s]\n"
     ]
    }
   ],
   "source": [
    "vgg = torchvision.models.vgg16(pretrained=True)\n",
    "for param in vgg.parameters():\n",
    "    param.requires_grad = False\n",
    "\n",
    "vnum_ftrs = vgg.classifier[6].in_features\n",
    "vfeatures = list(vgg.classifier.children())[:-6]\n",
    "vgg.classifier = nn.Sequential(*vfeatures)"
   ]
  },
  {
   "cell_type": "code",
   "execution_count": 0,
   "metadata": {
    "colab": {
     "base_uri": "https://localhost:8080/",
     "height": 799
    },
    "colab_type": "code",
    "id": "C5KM9mE3bWHA",
    "outputId": "e5785c06-cf7e-4e0f-fc5a-f3934174a59e"
   },
   "outputs": [
    {
     "name": "stdout",
     "output_type": "stream",
     "text": [
      "----------------------------------------------------------------\n",
      "        Layer (type)               Output Shape         Param #\n",
      "================================================================\n",
      "            Conv2d-1         [-1, 64, 224, 224]           1,792\n",
      "              ReLU-2         [-1, 64, 224, 224]               0\n",
      "            Conv2d-3         [-1, 64, 224, 224]          36,928\n",
      "              ReLU-4         [-1, 64, 224, 224]               0\n",
      "         MaxPool2d-5         [-1, 64, 112, 112]               0\n",
      "            Conv2d-6        [-1, 128, 112, 112]          73,856\n",
      "              ReLU-7        [-1, 128, 112, 112]               0\n",
      "            Conv2d-8        [-1, 128, 112, 112]         147,584\n",
      "              ReLU-9        [-1, 128, 112, 112]               0\n",
      "        MaxPool2d-10          [-1, 128, 56, 56]               0\n",
      "           Conv2d-11          [-1, 256, 56, 56]         295,168\n",
      "             ReLU-12          [-1, 256, 56, 56]               0\n",
      "           Conv2d-13          [-1, 256, 56, 56]         590,080\n",
      "             ReLU-14          [-1, 256, 56, 56]               0\n",
      "           Conv2d-15          [-1, 256, 56, 56]         590,080\n",
      "             ReLU-16          [-1, 256, 56, 56]               0\n",
      "        MaxPool2d-17          [-1, 256, 28, 28]               0\n",
      "           Conv2d-18          [-1, 512, 28, 28]       1,180,160\n",
      "             ReLU-19          [-1, 512, 28, 28]               0\n",
      "           Conv2d-20          [-1, 512, 28, 28]       2,359,808\n",
      "             ReLU-21          [-1, 512, 28, 28]               0\n",
      "           Conv2d-22          [-1, 512, 28, 28]       2,359,808\n",
      "             ReLU-23          [-1, 512, 28, 28]               0\n",
      "        MaxPool2d-24          [-1, 512, 14, 14]               0\n",
      "           Conv2d-25          [-1, 512, 14, 14]       2,359,808\n",
      "             ReLU-26          [-1, 512, 14, 14]               0\n",
      "           Conv2d-27          [-1, 512, 14, 14]       2,359,808\n",
      "             ReLU-28          [-1, 512, 14, 14]               0\n",
      "           Conv2d-29          [-1, 512, 14, 14]       2,359,808\n",
      "             ReLU-30          [-1, 512, 14, 14]               0\n",
      "        MaxPool2d-31            [-1, 512, 7, 7]               0\n",
      "AdaptiveAvgPool2d-32            [-1, 512, 7, 7]               0\n",
      "           Linear-33                 [-1, 4096]     102,764,544\n",
      "================================================================\n",
      "Total params: 117,479,232\n",
      "Trainable params: 0\n",
      "Non-trainable params: 117,479,232\n",
      "----------------------------------------------------------------\n",
      "Input size (MB): 0.57\n",
      "Forward/backward pass size (MB): 218.62\n",
      "Params size (MB): 448.15\n",
      "Estimated Total Size (MB): 667.34\n",
      "----------------------------------------------------------------\n"
     ]
    }
   ],
   "source": [
    "summary(vgg.cuda(), (3,224,224))"
   ]
  },
  {
   "cell_type": "code",
   "execution_count": null,
   "metadata": {
    "colab": {
     "base_uri": "https://localhost:8080/",
     "height": 1000
    },
    "colab_type": "code",
    "id": "tQ1rZ69wk22G",
    "outputId": "a71b36e6-f5d7-4259-8c64-6ce8e76edb77"
   },
   "outputs": [],
   "source": [
    "DONT RUN AGAIN\n",
    "# Pass train images and save features\n",
    "\n",
    "i=1\n",
    "feats=[]\n",
    "for batch_index, batch_data in enumerate(dataset_loader):\n",
    "  # print(batch_data[0])\n",
    "  out = vgg(torch.squeeze(batch_data[0]).cuda())\n",
    "  avgs = torch.Tensor.cpu(out).detach().mean(0).numpy()\n",
    "  feats.append(avgs)\n",
    "  \n",
    "  if i % 25 ==0:\n",
    "    scipy.io.savemat('Features.'+str(int(i/25))+'.mat', {'feature': feats})\n",
    "    feats=[]\n",
    "  print(i)\n",
    "  i+=1"
   ]
  },
  {
   "cell_type": "code",
   "execution_count": null,
   "metadata": {
    "colab": {
     "base_uri": "https://localhost:8080/",
     "height": 1000
    },
    "colab_type": "code",
    "id": "OF4Sv7OXRYf5",
    "outputId": "0be226b5-6bb7-4719-e561-1685dae00f31"
   },
   "outputs": [],
   "source": [
    "DONT RUN AGAIN\n",
    "# Pass test images and save features\n",
    "\n",
    "i=1\n",
    "feats_test=[]\n",
    "for batch_index_test, batch_data_test in enumerate(dataset_loader_test):\n",
    "  # print(batch_data_test[0])\n",
    "  out_test = vgg(torch.squeeze(batch_data_test[0]).cuda())\n",
    "  avgs_test = torch.Tensor.cpu(out_test).detach().mean(0).numpy()\n",
    "  feats_test.append(avgs_test)\n",
    "  \n",
    "  if i % 25 ==0:\n",
    "    scipy.io.savemat('Features_test.'+str(int(i/25))+'.mat', {'feature': feats_test})\n",
    "    feats_test=[]\n",
    "  print(i)\n",
    "  i+=1"
   ]
  },
  {
   "cell_type": "markdown",
   "metadata": {
    "colab_type": "text",
    "id": "UN74WLWpl7zQ"
   },
   "source": [
    "***\n",
    "***\n",
    "## **Problem 2.** Modelling"
   ]
  },
  {
   "cell_type": "code",
   "execution_count": 0,
   "metadata": {
    "colab": {
     "base_uri": "https://localhost:8080/",
     "height": 34
    },
    "colab_type": "code",
    "id": "H2BszdDxO9nG",
    "outputId": "1adbebcc-3d99-4ff4-f503-e0361c96301f"
   },
   "outputs": [
    {
     "name": "stdout",
     "output_type": "stream",
     "text": [
      "2409\n"
     ]
    }
   ],
   "source": [
    "# Training labels: Size 2409\n",
    "\n",
    "train_label_list=[]\n",
    "for feat_num, lbl in enumerate(training_labels, start = 1):\n",
    "  # print(feat_num,lbl[1])\n",
    "  train_label_list.append(int(lbl[1])-1)\n",
    "print(len(train_label_list))\n",
    "# train_label_tensor = torch.LongTensor(train_label_list)\n",
    "# train_label_tensor.shape"
   ]
  },
  {
   "cell_type": "code",
   "execution_count": 0,
   "metadata": {
    "colab": {
     "base_uri": "https://localhost:8080/",
     "height": 34
    },
    "colab_type": "code",
    "id": "G2Whdb0EiiEB",
    "outputId": "430e6713-7806-4fab-d3f6-414c15df01b8"
   },
   "outputs": [
    {
     "name": "stdout",
     "output_type": "stream",
     "text": [
      "951\n"
     ]
    }
   ],
   "source": [
    "# Testing labels: Size 951\n",
    "\n",
    "\n",
    "test_label_list=[]\n",
    "for feat_num, lbl in enumerate(testing_labels, start = 1):\n",
    "  # print(feat_num,lbl[1])\n",
    "  test_label_list.append(int(lbl[1])-1)\n",
    "print(len(test_label_list))\n",
    "# test_label_tensor = torch.LongTensor(test_label_list)\n",
    "# test_label_tensor.shape"
   ]
  },
  {
   "cell_type": "code",
   "execution_count": 0,
   "metadata": {
    "colab": {},
    "colab_type": "code",
    "collapsed": true,
    "id": "ASDgn4e4Ivar"
   },
   "outputs": [],
   "source": [
    "# Load all train features in one variable\n",
    "l = os.listdir('./')\n",
    "lab_list=[]\n",
    "for i in l:\n",
    "  chk = i.split('.')\n",
    "  # print(chk)\n",
    "  if chk[0] == 'Features':\n",
    "    lab_list.append(int(chk[1]))\n",
    "lab_list.sort()\n",
    "train_data_list = []\n",
    "for i in lab_list:\n",
    "  path = 'Features.'+ str(i) + '.mat'\n",
    "  # print(path)\n",
    "  x = scipy.io.loadmat(path)\n",
    "  train_data_list.append(x['feature'])"
   ]
  },
  {
   "cell_type": "code",
   "execution_count": 0,
   "metadata": {
    "colab": {
     "base_uri": "https://localhost:8080/",
     "height": 34
    },
    "colab_type": "code",
    "id": "PAxXIK8FPr0-",
    "outputId": "ed9f621b-d5dc-479b-959e-6b4fc394a451"
   },
   "outputs": [
    {
     "data": {
      "text/plain": [
       "torch.Size([2409, 25, 4096])"
      ]
     },
     "execution_count": 11,
     "metadata": {
      "tags": []
     },
     "output_type": "execute_result"
    }
   ],
   "source": [
    "# Shape of Train Image Features\n",
    "\n",
    "train_data_tensor = torch.FloatTensor(train_data_list)\n",
    "train_data_tensor.shape"
   ]
  },
  {
   "cell_type": "code",
   "execution_count": 0,
   "metadata": {
    "colab": {},
    "colab_type": "code",
    "collapsed": true,
    "id": "l67bLv6BIl2I"
   },
   "outputs": [],
   "source": [
    "# Load all test features in one variable\n",
    "l = os.listdir('./')\n",
    "test_lab_list=[]\n",
    "for i in l:\n",
    "  chk = i.split('.')\n",
    "  # print(chk)\n",
    "  if chk[0] == 'Features_test':\n",
    "    test_lab_list.append(int(chk[1]))\n",
    "test_lab_list.sort()\n",
    "test_data_list = []\n",
    "for i in test_lab_list:\n",
    "  path = 'Features_test.'+ str(i) + '.mat'\n",
    "  # print(path)\n",
    "  x = scipy.io.loadmat(path)\n",
    "  test_data_list.append(x['feature'])"
   ]
  },
  {
   "cell_type": "code",
   "execution_count": 0,
   "metadata": {
    "colab": {
     "base_uri": "https://localhost:8080/",
     "height": 34
    },
    "colab_type": "code",
    "id": "FLZzHg2LPJfz",
    "outputId": "71cbb59e-bdbb-432e-c130-016b5998ac3b"
   },
   "outputs": [
    {
     "data": {
      "text/plain": [
       "torch.Size([951, 25, 4096])"
      ]
     },
     "execution_count": 13,
     "metadata": {
      "tags": []
     },
     "output_type": "execute_result"
    }
   ],
   "source": [
    "# Shape of Test Image Features\n",
    "\n",
    "test_data_tensor = torch.FloatTensor(test_data_list)\n",
    "test_data_tensor.shape"
   ]
  },
  {
   "cell_type": "markdown",
   "metadata": {
    "colab_type": "text",
    "id": "Do5OSV9Mnmwy"
   },
   "source": [
    "* ##### **Print the size of your training and test data**"
   ]
  },
  {
   "cell_type": "code",
   "execution_count": 0,
   "metadata": {
    "colab": {},
    "colab_type": "code",
    "collapsed": true,
    "id": "H5h0J1I2RU6G"
   },
   "outputs": [],
   "source": [
    "train_data = []\n",
    "for i in range(len(train_data_list)):\n",
    "   train_data.append([train_data_list[i], train_label_list[i]])\n",
    "\n",
    "trainloader = torch.utils.data.DataLoader(train_data, shuffle=False, batch_size=15)"
   ]
  },
  {
   "cell_type": "code",
   "execution_count": 0,
   "metadata": {
    "colab": {},
    "colab_type": "code",
    "collapsed": true,
    "id": "S8pwU3QaSaQc"
   },
   "outputs": [],
   "source": [
    "test_data = []\n",
    "for i in range(len(test_data_list)):\n",
    "   test_data.append([test_data_list[i], test_label_list[i]])\n",
    "\n",
    "testloader = torch.utils.data.DataLoader(test_data, shuffle=False, batch_size=15)"
   ]
  },
  {
   "cell_type": "markdown",
   "metadata": {
    "colab_type": "text",
    "id": "v0znm2TMmsDZ"
   },
   "source": [
    "---\n",
    "---\n",
    "## **Problem 3.** Evaluation"
   ]
  },
  {
   "cell_type": "markdown",
   "metadata": {
    "colab_type": "text",
    "id": "80ZUeqnGv48f"
   },
   "source": [
    "* ##### **Print the train and test accuracy of your model** "
   ]
  },
  {
   "cell_type": "code",
   "execution_count": 0,
   "metadata": {
    "colab": {},
    "colab_type": "code",
    "collapsed": true,
    "id": "GtPTfHQWY_-S"
   },
   "outputs": [],
   "source": [
    "class LSTMModel(nn.Module):\n",
    "    def __init__(self, input_dim, hidden_dim, layer_dim, output_dim):\n",
    "        super(LSTMModel, self).__init__()\n",
    "        self.hidden_dim = hidden_dim\n",
    "        self.layer_dim = layer_dim\n",
    "        self.lstm = nn.LSTM(input_dim, hidden_dim, layer_dim, batch_first=True)\n",
    "        self.fc = nn.Linear(hidden_dim, output_dim)\n",
    "\n",
    "    def forward(self, x):\n",
    "        h0 = torch.zeros(self.layer_dim, x.size(0), self.hidden_dim).requires_grad_()\n",
    "        c0 = torch.zeros(self.layer_dim, x.size(0), self.hidden_dim).requires_grad_()\n",
    "        out, (hn, cn) = self.lstm(x, (h0.detach(), c0.detach()))\n",
    "        out = self.fc(out[:, -1, :]) \n",
    "        return out"
   ]
  },
  {
   "cell_type": "code",
   "execution_count": 0,
   "metadata": {
    "colab": {},
    "colab_type": "code",
    "collapsed": true,
    "id": "DAZ3IEVlY_sV"
   },
   "outputs": [],
   "source": [
    "input_dim = 4096\n",
    "hidden_dim = 256\n",
    "layer_dim = 1\n",
    "output_dim = 25\n",
    "\n",
    "model = LSTMModel(input_dim, hidden_dim, layer_dim, output_dim)\n",
    "criterion = nn.CrossEntropyLoss()\n",
    "learning_rate = 0.01\n",
    "optimizer = torch.optim.SGD(model.parameters(), lr=learning_rate)  "
   ]
  },
  {
   "cell_type": "code",
   "execution_count": 0,
   "metadata": {
    "colab": {
     "base_uri": "https://localhost:8080/",
     "height": 289
    },
    "colab_type": "code",
    "id": "jPKaZGpoZgcp",
    "outputId": "5d308fba-8a52-45ba-a602-0acb8d38ca1e"
   },
   "outputs": [
    {
     "name": "stdout",
     "output_type": "stream",
     "text": [
      "Iteration: 500. Loss: 0.5507544875144958. Accuracy: 21\n",
      "Iteration: 1000. Loss: 0.15713702142238617. Accuracy: 31\n",
      "Iteration: 1500. Loss: 0.24347448348999023. Accuracy: 41\n",
      "Iteration: 2000. Loss: 0.7987858653068542. Accuracy: 60\n",
      "Iteration: 2500. Loss: 0.05483626946806908. Accuracy: 63\n",
      "Iteration: 3000. Loss: 0.12854555249214172. Accuracy: 63\n",
      "Iteration: 3500. Loss: 0.056200020015239716. Accuracy: 70\n",
      "Iteration: 4000. Loss: 0.0255113672465086. Accuracy: 71\n",
      "Iteration: 4500. Loss: 0.13052716851234436. Accuracy: 73\n",
      "Iteration: 5000. Loss: 0.20283609628677368. Accuracy: 77\n",
      "Iteration: 5500. Loss: 0.02679126337170601. Accuracy: 77\n",
      "Iteration: 6000. Loss: 0.016158049926161766. Accuracy: 78\n",
      "Iteration: 6500. Loss: 0.01678580604493618. Accuracy: 79\n",
      "Iteration: 7000. Loss: 0.005019568372517824. Accuracy: 79\n",
      "Iteration: 7500. Loss: 0.03825908154249191. Accuracy: 78\n",
      "Iteration: 8000. Loss: 0.013941808603703976. Accuracy: 79\n"
     ]
    }
   ],
   "source": [
    "# Number of steps to unroll\n",
    "seq_dim = 25\n",
    "num_epochs = 50\n",
    "iter = 0\n",
    "for epoch in range(num_epochs):\n",
    "    for i, (images, labels) in enumerate(trainloader):\n",
    "        images = images.view(-1, seq_dim, input_dim).requires_grad_()\n",
    "        optimizer.zero_grad()\n",
    "        outputs = model(images)\n",
    "        loss = criterion(outputs, labels)\n",
    "        loss.backward()\n",
    "        optimizer.step()\n",
    "\n",
    "        iter += 1\n",
    "        if iter % 500 == 0:\n",
    "            # Calculate Accuracy         \n",
    "            correct = 0\n",
    "            total = 0\n",
    "            # Iterate through test dataset\n",
    "            for images, labels in testloader:\n",
    "                images = images.view(-1, seq_dim, input_dim)\n",
    "                outputs = model(images)\n",
    "                _, predicted = torch.max(outputs.data, 1)\n",
    "                total += labels.size(0)\n",
    "                correct += (predicted == labels).sum()\n",
    "\n",
    "            accuracy = 100 * correct / total\n",
    "\n",
    "            # Print Loss\n",
    "            print('Iteration: {}. Loss: {}. Accuracy: {}'.format(iter, loss.item(), accuracy))"
   ]
  },
  {
   "cell_type": "code",
   "execution_count": 0,
   "metadata": {
    "colab": {},
    "colab_type": "code",
    "collapsed": true,
    "id": "qtEd5By-ZLgh"
   },
   "outputs": [],
   "source": [
    "class LSTMModel(nn.Module):\n",
    "    def __init__(self, input_dim, hidden_dim, layer_dim, output_dim):\n",
    "        super(LSTMModel, self).__init__()\n",
    "        self.hidden_dim = hidden_dim\n",
    "        self.layer_dim = layer_dim\n",
    "        self.lstm = nn.LSTM(input_dim, hidden_dim, layer_dim, batch_first=True)\n",
    "        self.fc = nn.Linear(hidden_dim, output_dim)\n",
    "\n",
    "    def forward(self, x):\n",
    "        h0 = torch.zeros(self.layer_dim, x.size(0), self.hidden_dim).requires_grad_()\n",
    "        c0 = torch.zeros(self.layer_dim, x.size(0), self.hidden_dim).requires_grad_()\n",
    "        out, (hn, cn) = self.lstm(x, (h0.detach(), c0.detach()))\n",
    "        out = self.fc(out[:, -1, :]) \n",
    "        return out"
   ]
  },
  {
   "cell_type": "code",
   "execution_count": 0,
   "metadata": {
    "colab": {},
    "colab_type": "code",
    "collapsed": true,
    "id": "aBk0GcqcZLOg"
   },
   "outputs": [],
   "source": [
    "input_dim = 4096\n",
    "hidden_dim = 256\n",
    "layer_dim = 2\n",
    "output_dim = 25\n",
    "\n",
    "model = LSTMModel(input_dim, hidden_dim, layer_dim, output_dim)\n",
    "criterion = nn.CrossEntropyLoss()\n",
    "learning_rate = 0.01\n",
    "optimizer = torch.optim.SGD(model.parameters(), lr=learning_rate)  "
   ]
  },
  {
   "cell_type": "code",
   "execution_count": 0,
   "metadata": {
    "colab": {
     "base_uri": "https://localhost:8080/",
     "height": 119
    },
    "colab_type": "code",
    "id": "nQ36oNGOZK4P",
    "outputId": "367dbe30-1c13-421b-8b84-69523305ed7d"
   },
   "outputs": [
    {
     "name": "stdout",
     "output_type": "stream",
     "text": [
      "Iteration: 500. Loss: 0.031018683686852455. Accuracy: 55\n",
      "Iteration: 1000. Loss: 0.023472515866160393. Accuracy: 58\n",
      "Iteration: 1500. Loss: 0.010183637030422688. Accuracy: 62\n",
      "Iteration: 2000. Loss: 0.01843641884624958. Accuracy: 62\n",
      "Iteration: 2500. Loss: 0.007846254855394363. Accuracy: 62\n",
      "Iteration: 3000. Loss: 0.0150957852602005. Accuracy: 59\n"
     ]
    }
   ],
   "source": [
    "# Number of steps to unroll\n",
    "seq_dim = 25\n",
    "num_epochs = 20\n",
    "iter = 0\n",
    "for epoch in range(num_epochs):\n",
    "    for i, (images, labels) in enumerate(trainloader):\n",
    "        images = images.view(-1, seq_dim, input_dim).requires_grad_()\n",
    "        optimizer.zero_grad()\n",
    "        outputs = model(images)\n",
    "        loss = criterion(outputs, labels)\n",
    "        loss.backward()\n",
    "        optimizer.step()\n",
    "\n",
    "        iter += 1\n",
    "        if iter % 500 == 0:\n",
    "            # Calculate Accuracy         \n",
    "            correct = 0\n",
    "            total = 0\n",
    "            # Iterate through test dataset\n",
    "            for images, labels in testloader:\n",
    "                images = images.view(-1, seq_dim, input_dim)\n",
    "                outputs = model(images)\n",
    "                _, predicted = torch.max(outputs.data, 1)\n",
    "                total += labels.size(0)\n",
    "                correct += (predicted == labels).sum()\n",
    "\n",
    "            accuracy = 100 * correct / total\n",
    "\n",
    "            # Print Loss\n",
    "            print('Iteration: {}. Loss: {}. Accuracy: {}'.format(iter, loss.item(), accuracy))"
   ]
  },
  {
   "cell_type": "markdown",
   "metadata": {
    "colab_type": "text",
    "id": "eesNQn6FYKQz"
   },
   "source": [
    "* ##### **Print the train and test and test accuracy of SVM** "
   ]
  },
  {
   "cell_type": "code",
   "execution_count": 0,
   "metadata": {
    "colab": {},
    "colab_type": "code",
    "collapsed": true,
    "id": "mV5Pb8lx71AN"
   },
   "outputs": [],
   "source": [
    "train_data_arr = np.asarray(train_data_list)\n",
    "train_data2d = np.reshape(train_data_arr, (2409, 25*4096))\n",
    "\n",
    "test_data_arr = np.asarray(test_data_list)\n",
    "test_data2d = np.reshape(test_data_arr, (951, 25*4096))"
   ]
  },
  {
   "cell_type": "code",
   "execution_count": 0,
   "metadata": {
    "colab": {
     "base_uri": "https://localhost:8080/",
     "height": 34
    },
    "colab_type": "code",
    "id": "-iIwsRt68sB5",
    "outputId": "c2d6d116-1a83-4c55-abf8-d1d512bf2071"
   },
   "outputs": [
    {
     "name": "stdout",
     "output_type": "stream",
     "text": [
      "SVM Accuracy:  84.85804416403785\n"
     ]
    }
   ],
   "source": [
    "clf = LinearSVC(C=1.0)\n",
    "clf.fit(train_data2d, train_label_list)\n",
    "ypreds = clf.predict(test_data2d)\n",
    "print (\"SVM Accuracy: \",np.sum(test_label_list==ypreds)*100.0/len(test_label_list))"
   ]
  },
  {
   "cell_type": "markdown",
   "metadata": {
    "colab_type": "text",
    "id": "cL4Y3nHBkwmb"
   },
   "source": [
    "## **Problem 4.** Report"
   ]
  },
  {
   "cell_type": "markdown",
   "metadata": {
    "colab_type": "text",
    "id": "JbzpDeRRNuHj"
   },
   "source": [
    "## **Bonus**\n"
   ]
  },
  {
   "cell_type": "markdown",
   "metadata": {
    "colab_type": "text",
    "id": "jPrhLzuyN-rr"
   },
   "source": [
    "* ##### **Print the size of your training and test data**"
   ]
  },
  {
   "cell_type": "code",
   "execution_count": 0,
   "metadata": {
    "colab": {},
    "colab_type": "code",
    "collapsed": true,
    "id": "b8IR6zrwOENz"
   },
   "outputs": [],
   "source": [
    "# Don't hardcode the shape of train and test data\n",
    "print('Shape of training data is :', )\n",
    "print('Shape of test/validation data is :', )"
   ]
  },
  {
   "cell_type": "markdown",
   "metadata": {
    "colab_type": "text",
    "id": "GAakVg8-OE_j"
   },
   "source": [
    "* ##### **Modelling and evaluation**"
   ]
  },
  {
   "cell_type": "code",
   "execution_count": 0,
   "metadata": {
    "colab": {},
    "colab_type": "code",
    "collapsed": true,
    "id": "QHbPzkcoObLb"
   },
   "outputs": [],
   "source": [
    "#Write your code for modelling and evaluation"
   ]
  },
  {
   "cell_type": "markdown",
   "metadata": {
    "colab_type": "text",
    "id": "vb4Wlzw2jYcJ"
   },
   "source": [
    "## Submission\n",
    "---\n",
    "**Runnable source code in ipynb file and a pdf report are required**.\n",
    "\n",
    "The report should be of 3 to 4 pages describing what you have done and learned in this homework and report performance of your model. If you have tried multiple methods, please compare your results. If you are using any external code, please cite it in your report. Note that this homework is designed to help you explore and get familiar with the techniques. The final grading will be largely based on your prediction accuracy and the different methods you tried (different architectures and parameters).\n",
    "\n",
    "Please indicate clearly in your report what model you have tried, what techniques you applied to improve the performance and report their accuracies. The report should be concise and include the highlights of your efforts.\n",
    "The naming convention for report is **Surname_Givenname_SBUID_report*.pdf**\n",
    "\n",
    "When submitting your .zip file through blackboard, please\n",
    "-- name your .zip file as **Surname_Givenname_SBUID_hw*.zip**.\n",
    "\n",
    "This zip file should include:\n",
    "```\n",
    "Surname_Givenname_SBUID_hw*\n",
    "        |---Surname_Givenname_SBUID_hw*.ipynb\n",
    "        |---Surname_Givenname_SBUID_hw*.pdf\n",
    "        |---Surname_Givenname_SBUID_report*.pdf\n",
    "```\n",
    "\n",
    "For instance, student Michael Jordan should submit a zip file named \"Jordan_Michael_111134567_hw5.zip\" for homework5 in this structure:\n",
    "```\n",
    "Jordan_Michael_111134567_hw5\n",
    "        |---Jordan_Michael_111134567_hw5.ipynb\n",
    "        |---Jordan_Michael_111134567_hw5.pdf\n",
    "        |---Jordan_Michael_111134567_report*.pdf\n",
    "```\n",
    "\n",
    "The **Surname_Givenname_SBUID_hw*.pdf** should include a **google shared link**. To generate the **google shared link**, first create a folder named **Surname_Givenname_SBUID_hw*** in your Google Drive with your Stony Brook account. \n",
    "\n",
    "Then right click this folder, click ***Get shareable link***, in the People textfield, enter two TA's emails: ***bo.cao.1@stonybrook.edu*** and ***sayontan.ghosh@stonybrook.edu***. Make sure that TAs who have the link **can edit**, ***not just*** **can view**, and also **uncheck** the **Notify people** box.\n",
    "\n",
    "Colab has a good feature of version control, you should take advantage of this to save your work properly. However, the timestamp of the submission made in blackboard is the only one that we consider for grading. To be more specific, we will only grade the version of your code right before the timestamp of the submission made in blackboard. \n",
    "\n",
    "You are encouraged to post and answer questions on Piazza. Based on the amount of email that we have received in past years, there might be dealys in replying to personal emails. Please ask questions on Piazza and send emails only for personal issues.\n",
    "\n",
    "Be aware that your code will undergo plagiarism check both vertically and horizontally. Please do your own work."
   ]
  }
 ],
 "metadata": {
  "accelerator": "GPU",
  "anaconda-cloud": {},
  "colab": {
   "collapsed_sections": [],
   "machine_shape": "hm",
   "name": "Joshi_Parth_112675594_hw5.ipynb",
   "provenance": []
  },
  "kernelspec": {
   "display_name": "Python 3",
   "language": "python",
   "name": "python3"
  },
  "language_info": {
   "codemirror_mode": {
    "name": "ipython",
    "version": 3
   },
   "file_extension": ".py",
   "mimetype": "text/x-python",
   "name": "python",
   "nbconvert_exporter": "python",
   "pygments_lexer": "ipython3",
   "version": "3.6.1"
  }
 },
 "nbformat": 4,
 "nbformat_minor": 1
}
